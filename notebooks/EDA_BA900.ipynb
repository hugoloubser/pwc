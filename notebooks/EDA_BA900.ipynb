{
 "cells": [
  {
   "cell_type": "markdown",
   "metadata": {},
   "source": [
    "# BA900 Exploratory Data Analysis\n",
    "\n",
    "This notebook demonstrates how to load and explore the South African Reserve Bank (SARB) BA900 return data.  We focus on calculating non‑performing loan (NPL) ratios for banks, retrieving macroeconomic indicators and visualising their relationships.  The code relies on the reusable functions defined in the `ba900` package contained in this repository.\n",
    "\n",
    "> **Note:** Running this notebook requires that you have previously scraped and cached BA900 data using the `ba900.scraper` module.  You should also ensure that the necessary Python dependencies are installed via `requirements.txt`."
   ]
  },
  {
   "cell_type": "code",
   "execution_count": 10,
   "metadata": {},
   "outputs": [],
   "source": [
    "# Standard imports\n",
    "import pandas as pd\n",
    "import matplotlib.pyplot as plt\n",
    "\n",
    "# Add project root to Python path so we can import ba900 modules\n",
    "import os\n",
    "import sys\n",
    "project_root = os.path.dirname(os.getcwd())  # Go up one level from notebooks to project root\n",
    "if project_root not in sys.path:\n",
    "    sys.path.insert(0, project_root)\n",
    "\n",
    "# Import project modules\n",
    "from ba900.scraper import load_cached_data\n",
    "from ba900.macro_fetcher import get_world_bank_indicators\n",
    "from ba900.modeling import aggregate_bank_data, prepare_regression_dataset, train_simple_model\n",
    "from ba900.visualization import plot_npl_over_time, plot_npl_vs_macro"
   ]
  },
  {
   "cell_type": "markdown",
   "metadata": {},
   "source": [
    "## 1. Load BA900 data\n",
    "\n",
    "The BA900 returns are stored locally after scraping.  Use the `load_cached_data` function to read them into a DataFrame.  Each record corresponds to a single institution and reporting period.  Adjust the `periods` list to match the months you downloaded."
   ]
  },
  {
   "cell_type": "code",
   "execution_count": null,
   "metadata": {},
   "outputs": [],
   "source": [
    "# Replace the periods below with the months you scraped, e.g. ['2025-01-01', '2025-02-01']\n",
    "periods = []  # e.g. ['2024-12-01', '2025-01-01']\n",
    "\n",
    "# Load the cached BA900 data for the selected periods\n",
    "if periods:\n",
    "    bank_frames = load_cached_data(periods)\n",
    "    # 'bank_frames' is a dictionary mapping (period, institutionId) to DataFrames\n",
    "    print(f\"Loaded {len(bank_frames)} institution returns\")\n",
    "else:\n",
    "    print(\"Please specify periods before running this cell.\")"
   ]
  },
  {
   "cell_type": "markdown",
   "metadata": {},
   "source": [
    "## 2. Compute NPL ratios\n",
    "\n",
    "To compute the non‑performing loan ratio, we need to identify the columns corresponding to non‑performing loans and gross loans in the BA900 return.  These column names vary by institution; consult the XML schema for specifics.  For the purposes of this example, we assume the columns are named `non_performing_loans` and `gross_loans`.\n",
    "\n",
    "We then combine all institutions into a single panel DataFrame using `aggregate_bank_data`."
   ]
  },
  {
   "cell_type": "code",
   "execution_count": null,
   "metadata": {},
   "outputs": [],
   "source": [
    "# Aggregate returns into a panel and compute NPL ratio\n",
    "from itertools import islice\n",
    "\n",
    "if periods:\n",
    "    # Combine all institution DataFrames into one iterable\n",
    "    all_records = []\n",
    "    for ((period, inst_id), df) in bank_frames.items():\n",
    "        df['date'] = pd.to_datetime(period)\n",
    "        all_records.append(df)\n",
    "    panel = aggregate_bank_data(all_records, npl_field='non_performing_loans', loans_field='gross_loans')\n",
    "    panel.head()\n",
    "else:\n",
    "    print(\"No data loaded.\")"
   ]
  },
  {
   "cell_type": "markdown",
   "metadata": {},
   "source": [
    "## 3. Fetch macroeconomic indicators\n",
    "\n",
    "Next we fetch macro variables from the World Bank API.  The function `get_world_bank_indicators` accepts a dictionary mapping friendly names to World Bank indicator codes.  Below we request GDP growth and inflation for South Africa (`ZAF`) starting in 2000.  The result is a DataFrame indexed by year."
   ]
  },
  {
   "cell_type": "code",
   "execution_count": null,
   "metadata": {},
   "outputs": [],
   "source": [
    "# Download macro indicators (GDP growth and inflation)\n",
    "indicators = {\n",
    "    'gdp_growth': 'NY.GDP.MKTP.KD.ZG',\n",
    "    'inflation': 'FP.CPI.TOTL.ZG'\n",
    "}\n",
    "\n",
    "macro_df = get_world_bank_indicators(indicators, start_year=2000, end_year=2025)\n",
    "macro_df.head()"
   ]
  },
  {
   "cell_type": "markdown",
   "metadata": {},
   "source": [
    "## 4. Merge and explore\n",
    "\n",
    "Finally we merge the bank panel and macro data.  Because macro data are annual, we resample the bank panel to year‑end values.  The merged dataset can then be used for modelling or plotting."
   ]
  },
  {
   "cell_type": "code",
   "execution_count": null,
   "metadata": {},
   "outputs": [],
   "source": [
    "if periods:\n",
    "    merged = prepare_regression_dataset(panel, macro_df, date_freq='A')\n",
    "    merged.head()\n",
    "else:\n",
    "    print(\"No data loaded.\")"
   ]
  },
  {
   "cell_type": "markdown",
   "metadata": {},
   "source": [
    "### Visualisation\n",
    "\n",
    "We can now visualise how NPL ratios evolve over time or relate to macro variables.  Use the plotting functions from the `ba900.visualization` module.  For example, plot the NPL ratio over time for a couple of institutions (replace `inst1` and `inst2` with real identifiers), and examine the relationship between NPL ratio and GDP growth."
   ]
  },
  {
   "cell_type": "code",
   "execution_count": null,
   "metadata": {},
   "outputs": [],
   "source": [
    "# Example plots -- replace 'inst1' and 'inst2' with actual institution codes\n",
    "if periods:\n",
    "    fig1 = plot_npl_over_time(panel, institutions=['inst1', 'inst2'])\n",
    "    fig1.show()\n",
    "    fig2 = plot_npl_vs_macro(merged, macro_var='gdp_growth', hue='institution')\n",
    "    fig2.show()\n",
    "else:\n",
    "    print(\"No data loaded.\")"
   ]
  }
 ],
 "metadata": {
  "kernelspec": {
   "display_name": "pwc",
   "language": "python",
   "name": "python3"
  },
  "language_info": {
   "codemirror_mode": {
    "name": "ipython",
    "version": 3
   },
   "file_extension": ".py",
   "mimetype": "text/x-python",
   "name": "python",
   "nbconvert_exporter": "python",
   "pygments_lexer": "ipython3",
   "version": "3.11.9"
  }
 },
 "nbformat": 4,
 "nbformat_minor": 5
}
